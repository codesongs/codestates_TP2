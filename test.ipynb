{
  "cells": [
    {
      "cell_type": "markdown",
      "metadata": {
        "id": "view-in-github",
        "colab_type": "text"
      },
      "source": [
        "<a href=\"https://colab.research.google.com/github/codesongs/codestates_TP2/blob/main/test.ipynb\" target=\"_parent\"><img src=\"https://colab.research.google.com/assets/colab-badge.svg\" alt=\"Open In Colab\"/></a>"
      ]
    },
    {
      "cell_type": "markdown",
      "id": "c324c75f-1236-43bf-8d9a-37000071e16b",
      "metadata": {
        "id": "c324c75f-1236-43bf-8d9a-37000071e16b"
      },
      "source": [
        "### 모델 훈련\n",
        "개별 파일(MF.py, KNN.py)에서도 훈련이 가능하지만, 최상위 모듈인 train.py를 사용하여 학습을 진행할 수 있습니다.</br>\n",
        "train.py 모듈을 터미널에서 실행하는 것으로 학습할 수 있습니다.</br>\n",
        "train.py와 함께 사용할 수 있는 arguments들은 다음과 같습니다.</br>\n",
        "\n",
        "**mf 모델 학습용 arguments**\n",
        "- --mf : Matrix Factorization 모델의 학습 여부를 결정하는 인자입니다. --mf 를 입력하는 경우 학습을 진행하며, --no-mf를 입력하는 경우 해당 모델의 학습을 진행하지 않습니다.(입력하지 않았을 경우에는 학습 진행을 하도록 되어 있습니다.)\n",
        "- -k : Matrix Factorization 행렬의 크기를 결정하는 인자값입니다. (default = 200)\n",
        "- -e 또는 --epochs : mf 모델의 학습 횟수를 결정하는 인자입니다. (default = 1)\n",
        "- -b 또는 --batch_size : 학습 시 사용하는 batch_size를 결정하는 인자입니다.(default = 512)\n",
        "\n",
        "**knn 모델 학습용 arguments**\n",
        "- --knn : 최근접 이웃을 활용한 콘텐츠 기반 필터링 모델의 학습 여부를 결정하는 인자입니다. --knn을 입력하는 경우 학습을 진행하며, word2vec 모델과 cbf_data, knn모델을 models 폴더 경로에 생성합니다.(이미 존재하는 경우에는 업데이트) --no-knn을 입력하면 해당 모델의 학습을 진행하지 않습니다.(입력하지 않았을 경우에는 학습 진행을 하도록 되어 있습니다.)\n",
        "- --vector_size : word2vec 학습에 생성하는 행렬 차원의 수를 결정하는 인자입니다.(default = 100)\n",
        "- --pretrained : 영화 장르 임베딩을 적용할 때 사용하는 gensim의 사전학습 모델을 결정하는 인자입니다. (default = 'glove-twitter-100')"
      ]
    },
    {
      "cell_type": "code",
      "execution_count": null,
      "id": "be019fe2-ef34-45b0-b31b-aa009fbdf24d",
      "metadata": {
        "tags": [],
        "id": "be019fe2-ef34-45b0-b31b-aa009fbdf24d",
        "outputId": "55d434a9-970b-4593-d9f2-d43a989afc41"
      },
      "outputs": [
        {
          "name": "stdout",
          "output_type": "stream",
          "text": [
            "2023-06-28 07:53:59.530928: I tensorflow/tsl/cuda/cudart_stub.cc:28] Could not find cuda drivers on your machine, GPU will not be used.\n",
            "2023-06-28 07:53:59.574179: I tensorflow/tsl/cuda/cudart_stub.cc:28] Could not find cuda drivers on your machine, GPU will not be used.\n",
            "2023-06-28 07:53:59.574713: I tensorflow/core/platform/cpu_feature_guard.cc:182] This TensorFlow binary is optimized to use available CPU instructions in performance-critical operations.\n",
            "To enable the following instructions: AVX2 FMA, in other operations, rebuild TensorFlow with the appropriate compiler flags.\n",
            "2023-06-28 07:54:00.381440: W tensorflow/compiler/tf2tensorrt/utils/py_utils.cc:38] TF-TRT Warning: Could not find TensorRT\n",
            "Epoch 1/3\n",
            "1251/1251 [==============================] - 25s 19ms/step - loss: 5.7587 - val_loss: 0.9398\n",
            "Epoch 2/3\n",
            "1251/1251 [==============================] - 23s 18ms/step - loss: 0.8581 - val_loss: 0.8353\n",
            "Epoch 3/3\n",
            "1251/1251 [==============================] - 25s 20ms/step - loss: 0.7570 - val_loss: 0.7887\n",
            "---Saving model---\n",
            "Save Complete.\n"
          ]
        }
      ],
      "source": [
        "#CLI\n",
        "#mf모델만 3 epochs로 학습하라는 명령어(knn 모델은 학습하지 않음)\n",
        "#두가지 모델을 전무 학습시키고 싶다면 !python trian.py 명령어를 사용하시면 됩니다.\n",
        "!python train.py --no-knn -e 3"
      ]
    },
    {
      "cell_type": "markdown",
      "id": "9a567502-f546-4f67-91d2-3ac8a3cfba11",
      "metadata": {
        "id": "9a567502-f546-4f67-91d2-3ac8a3cfba11"
      },
      "source": [
        "### 인기도 기반 추천 시스템 테스트\n",
        "베이스라인 모델의 인기도 기반 추천은 사용자들이 가장 많이 평점을 남긴 영화 순으로 추천하도록 설계되어 있습니다.</br>\n",
        "관련 코드는 models 폴더의 impersonal.py 코드에 작성되어 있습니다."
      ]
    },
    {
      "cell_type": "code",
      "execution_count": null,
      "id": "ce1dae94-bc99-4e7f-9bf5-efaf929ec29e",
      "metadata": {
        "tags": [],
        "id": "ce1dae94-bc99-4e7f-9bf5-efaf929ec29e",
        "outputId": "fd7cdf2f-f91f-43ee-a2db-4a2b43e89612"
      },
      "outputs": [
        {
          "data": {
            "text/plain": [
              "[2858, 260, 1196, 1210, 480, 2028, 589, 2571, 1270, 593]"
            ]
          },
          "execution_count": 1,
          "metadata": {},
          "output_type": "execute_result"
        }
      ],
      "source": [
        "from models.impersonal import popular\n",
        "popular(10)"
      ]
    },
    {
      "cell_type": "markdown",
      "id": "2dc7d5c0-1ae1-46a3-b90a-74dac0ae5699",
      "metadata": {
        "id": "2dc7d5c0-1ae1-46a3-b90a-74dac0ae5699"
      },
      "source": [
        "### 협업 필터링 모델 테스트\n",
        "Matrix Factorization 기반 모델 코드의 경우 train.py를 통해 학습한 mf.h5 파일을 로드하여 예측을 진행합니다."
      ]
    },
    {
      "cell_type": "code",
      "execution_count": null,
      "id": "e69e7450-f9ab-48e9-8c69-d807439ff616",
      "metadata": {
        "tags": [],
        "id": "e69e7450-f9ab-48e9-8c69-d807439ff616"
      },
      "outputs": [],
      "source": [
        "from models.MF import MF\n",
        "mf = MF('./models/mf.h5')"
      ]
    },
    {
      "cell_type": "code",
      "execution_count": null,
      "id": "aa35c0ec",
      "metadata": {
        "id": "aa35c0ec"
      },
      "outputs": [],
      "source": [
        "import numpy as np\n",
        "from sklearn.metrics import ndcg_score"
      ]
    },
    {
      "cell_type": "code",
      "execution_count": null,
      "id": "c5db6a92",
      "metadata": {
        "id": "c5db6a92"
      },
      "outputs": [],
      "source": [
        "from utils.Dataloader import load_ratings\n",
        "ratings_df = load_ratings('datasets')"
      ]
    },
    {
      "cell_type": "code",
      "execution_count": null,
      "id": "ecc2d4b9",
      "metadata": {
        "id": "ecc2d4b9"
      },
      "outputs": [],
      "source": [
        "user_ids = ratings_df['userId'].unique()  # Get the first 10 unique user IDs\n",
        "\n",
        "predicted_scores = []  # Collect predicted scores for selected users\n",
        "true_ratings_dict = {}\n",
        "\n",
        "for user_id in user_ids:\n",
        "    recommended_movies = mf.predict(int(user_id))[0]\n",
        "    predicted_scores.append(recommended_movies)\n",
        "    true_ratings_user_df = ratings_df[ratings_df['userId'] == user_id]\n",
        "    true_ratings_user_df = true_ratings_user_df.sort_values(by='rating', ascending=False)\n",
        "    true_movie_ids = true_ratings_user_df['movieId'].values.tolist()[:20]\n",
        "    true_ratings_dict[user_id] = true_movie_ids"
      ]
    },
    {
      "cell_type": "code",
      "execution_count": null,
      "id": "4b5fd8cd",
      "metadata": {
        "id": "4b5fd8cd"
      },
      "outputs": [],
      "source": [
        "recall = []\n",
        "for user_id in user_ids:\n",
        "    asdf =calculate_recall(true_ratings_dict[user_id], predicted_scores[user_id-1])\n",
        "    recall.append(asdf)"
      ]
    },
    {
      "cell_type": "code",
      "execution_count": null,
      "id": "ea41420a",
      "metadata": {
        "id": "ea41420a"
      },
      "outputs": [],
      "source": [
        "def calculate_recall(true_items, predicted_items, k=20):\n",
        "    true_positive = len(set(true_items) & set(predicted_items))  # 실제 양성과 예측된 양성의 교집합\n",
        "\n",
        "    recall_at_k = true_positive / k\n",
        "    return recall_at_k\n"
      ]
    },
    {
      "cell_type": "code",
      "execution_count": null,
      "id": "8ca5e98b",
      "metadata": {
        "id": "8ca5e98b",
        "outputId": "2e0c8bbd-e02c-4dac-9b7d-9eecdb2caf46"
      },
      "outputs": [
        {
          "data": {
            "text/plain": [
              "0.09245033112582782"
            ]
          },
          "execution_count": 9,
          "metadata": {},
          "output_type": "execute_result"
        }
      ],
      "source": [
        "recall20 = np.mean(recall)\n",
        "recall20"
      ]
    },
    {
      "cell_type": "code",
      "execution_count": null,
      "id": "7c50527b",
      "metadata": {
        "id": "7c50527b"
      },
      "outputs": [],
      "source": [
        "user_ids = ratings_df['userId'].unique()  # Get the first 10 unique user IDs\n",
        "\n",
        "predicted_scores = []  # Collect predicted scores for selected users\n",
        "true_ratings_dict = {}\n",
        "\n",
        "for user_id in user_ids:\n",
        "    recommended_movies = mf.predict(int(user_id))\n",
        "    predicted_scores.append(recommended_movies)\n",
        "    true_ratings_user_df = ratings_df[ratings_df['userId'] == user_id]\n",
        "    true_ratings_user_df = true_ratings_user_df.sort_values(by='rating', ascending=False)\n",
        "    true_movie_ids = true_ratings_user_df['movieId'].values.tolist()[:20]\n",
        "    true_ratings_dict[user_id] = true_movie_ids\n",
        "\n"
      ]
    },
    {
      "cell_type": "code",
      "execution_count": null,
      "id": "e0c34ba5",
      "metadata": {
        "id": "e0c34ba5",
        "outputId": "162978c2-c39c-42d5-af1a-6f249ed06610"
      },
      "outputs": [
        {
          "ename": "AttributeError",
          "evalue": "type object 'MF' has no attribute 'train'",
          "output_type": "error",
          "traceback": [
            "\u001b[1;31m---------------------------------------------------------------------------\u001b[0m",
            "\u001b[1;31mAttributeError\u001b[0m                            Traceback (most recent call last)",
            "Cell \u001b[1;32mIn[42], line 1\u001b[0m\n\u001b[1;32m----> 1\u001b[0m MF\u001b[39m.\u001b[39;49mtrain()\n",
            "\u001b[1;31mAttributeError\u001b[0m: type object 'MF' has no attribute 'train'"
          ]
        }
      ],
      "source": [
        "MF.train()"
      ]
    },
    {
      "cell_type": "code",
      "execution_count": null,
      "id": "2180aef7",
      "metadata": {
        "id": "2180aef7"
      },
      "outputs": [],
      "source": [
        "ndcg20 = []\n",
        "\n",
        "for user_id in user_ids:\n",
        "    true_ratings_info = true_ratings_dict[user_id]\n",
        "    predicted_scores_user = predicted_scores[user_id - 1][0]\n",
        "    common_items = set(true_ratings_info) & set(predicted_scores_user)\n",
        "    indices = [predicted_scores_user.index(item) for item in common_items]\n",
        "    exclude_indices = indices\n",
        "    predicted_scores_user2 = predicted_scores[user_id - 1][1]\n",
        "\n",
        "    for idx in range(len(predicted_scores_user2)):\n",
        "        if idx not in exclude_indices:\n",
        "            predicted_scores_user2[idx] = 0\n",
        "        else:\n",
        "            predicted_scores_user2[idx] = 1\n",
        "    ndcg_value = ndcg_at_k(predicted_scores_user2, 20)\n",
        "    ndcg20.append(ndcg_value)\n",
        "\n",
        "average_ndcg20 = sum(ndcg20) / len(user_ids)"
      ]
    },
    {
      "cell_type": "code",
      "execution_count": null,
      "id": "871ef7e7",
      "metadata": {
        "id": "871ef7e7",
        "outputId": "5e7c115a-4ef1-475a-f4a9-73f5a7ee8262"
      },
      "outputs": [
        {
          "name": "stdout",
          "output_type": "stream",
          "text": [
            "NDCG@20: 0.0964\n",
            "리콜@20: 0.0925\n"
          ]
        }
      ],
      "source": [
        "print(f\"NDCG@20: {average_ndcg20:.4f}\")\n",
        "print(f\"리콜@20: {recall20:.4f}\")"
      ]
    },
    {
      "cell_type": "code",
      "execution_count": null,
      "id": "bcc46968",
      "metadata": {
        "id": "bcc46968"
      },
      "outputs": [],
      "source": [
        "import numpy as np\n",
        "\n",
        "def ndcg_at_k(ranked_list, k):\n",
        "    idcg = np.sum(1 / np.log2(np.arange(2, k + 2)))\n",
        "    dcg = np.sum(ranked_list[:k] / np.log2(np.arange(2, k + 2)))\n",
        "    ndcg = dcg / idcg\n",
        "    return ndcg\n"
      ]
    },
    {
      "cell_type": "markdown",
      "id": "c2e6ecf3-c2a6-4573-bcd2-be1e9b971b2c",
      "metadata": {
        "id": "c2e6ecf3-c2a6-4573-bcd2-be1e9b971b2c"
      },
      "source": [
        "### 콘텐츠 기반 필터링 모델 테스트\n",
        "최근접 이웃 알고리즘을 활용한 콘텐츠 기반 필터링 모델의 경우 train.py를 통해 학습한 knn.joblib 파일을 로드하여 예측을 진행합니다."
      ]
    },
    {
      "cell_type": "code",
      "execution_count": null,
      "id": "135ddc53-3b3a-48fd-bdb0-2905b8cc4b07",
      "metadata": {
        "tags": [],
        "id": "135ddc53-3b3a-48fd-bdb0-2905b8cc4b07"
      },
      "outputs": [],
      "source": [
        "from models.KNN import KNN\n",
        "\n",
        "knn = KNN('models/knn.joblib')"
      ]
    },
    {
      "cell_type": "code",
      "execution_count": null,
      "id": "5a21c72f-76b0-4e43-b9c7-b3d9056cbd3f",
      "metadata": {
        "tags": [],
        "id": "5a21c72f-76b0-4e43-b9c7-b3d9056cbd3f",
        "outputId": "12ecd335-7903-44ac-adbf-c038f298c70b"
      },
      "outputs": [
        {
          "data": {
            "text/plain": [
              "array([1205, 2081, 2080,  258, 1566,  673, 2054, 1215,  558,   70, 1196,\n",
              "       1264,  610, 1210, 2322,  919,  107, 2045, 1473, 3266], dtype=int64)"
            ]
          },
          "execution_count": 4,
          "metadata": {},
          "output_type": "execute_result"
        }
      ],
      "source": [
        "USER_ID = 1\n",
        "TOP_NUM=20\n",
        "knn.predict(USER_ID, TOP_NUM)"
      ]
    }
  ],
  "metadata": {
    "kernelspec": {
      "display_name": "Python 3 (ipykernel)",
      "language": "python",
      "name": "python3"
    },
    "language_info": {
      "codemirror_mode": {
        "name": "ipython",
        "version": 3
      },
      "file_extension": ".py",
      "mimetype": "text/x-python",
      "name": "python",
      "nbconvert_exporter": "python",
      "pygments_lexer": "ipython3",
      "version": "3.8.17"
    },
    "colab": {
      "provenance": [],
      "include_colab_link": true
    }
  },
  "nbformat": 4,
  "nbformat_minor": 5
}